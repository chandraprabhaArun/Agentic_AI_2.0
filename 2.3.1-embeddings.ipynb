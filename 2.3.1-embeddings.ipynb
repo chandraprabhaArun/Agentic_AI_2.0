{
 "cells": [
  {
   "cell_type": "code",
   "execution_count": null,
   "id": "0f81eacc",
   "metadata": {},
   "outputs": [],
   "source": [
    "from langchain "
   ]
  },
  {
   "cell_type": "code",
   "execution_count": null,
   "id": "80490d7d",
   "metadata": {},
   "outputs": [],
   "source": [
    "text=\"This is a tutorial embedding\"\n",
    "query_result=embeddings.embed"
   ]
  }
 ],
 "metadata": {
  "language_info": {
   "name": "python"
  }
 },
 "nbformat": 4,
 "nbformat_minor": 5
}
